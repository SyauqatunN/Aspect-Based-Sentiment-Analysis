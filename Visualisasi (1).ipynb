{
  "cells": [
    {
      "cell_type": "code",
      "execution_count": null,
      "metadata": {
        "colab": {
          "background_save": true
        },
        "id": "pLas8flEybw2"
      },
      "outputs": [],
      "source": [
        "import seaborn as sns\n",
        "import pandas as pd\n",
        "sns.set_style(\"white\")"
      ]
    },
    {
      "cell_type": "code",
      "execution_count": null,
      "metadata": {
        "colab": {
          "base_uri": "https://localhost:8080/"
        },
        "id": "bK9UPdhpyn3v",
        "outputId": "1b999a6f-2603-41b2-cda8-811b3b31e5c7"
      },
      "outputs": [
        {
          "name": "stdout",
          "output_type": "stream",
          "text": [
            "Mounted at /content/gdrive\n"
          ]
        }
      ],
      "source": [
        "#Mount google Drive\n",
        "\n",
        "from google.colab import drive\n",
        "drive.mount('/content/gdrive')"
      ]
    },
    {
      "cell_type": "code",
      "execution_count": null,
      "metadata": {
        "colab": {
          "base_uri": "https://localhost:8080/"
        },
        "id": "bLWzGKOSAbuL",
        "outputId": "47b34b6e-9d06-4cb3-f383-794a2d46361c"
      },
      "outputs": [
        {
          "name": "stdout",
          "output_type": "stream",
          "text": [
            "            Date                                               Data  score  \\\n",
            "0     21/09/2020  Install wattpad Uda dr tahun 2015 karena cerit...      2   \n",
            "1     22/09/2020  Makin aneh deh ni wattpad. Udh gk nyaman lgi m...      1   \n",
            "2     22/09/2020  Jujur aku kesal sama Wattpad, makin lama makin...      2   \n",
            "3     22/09/2020  Saya pengguna watpat sejak dulu dan itu sangat...      1   \n",
            "4     23/09/2020  Mohon kembalikan wattpad seperti yang dulu!! S...      1   \n",
            "...          ...                                                ...    ...   \n",
            "8410  04/03/2021  Bagus lebih bagusnya kalo di tambahin daftar b...      5   \n",
            "8411  07/03/2021  Bagus bgt sih aku suka, tapi knapa offline nya...      5   \n",
            "8412  08/03/2021     Aplikasi nya bagus bisa menghibur aku makasiih      5   \n",
            "8413  10/03/2021  Bagus bgt kita bisa download ceritanya dan bac...      5   \n",
            "8414  19/01/2021  Sangat bagus. Tapi kenapa fersi baru ini login...      5   \n",
            "\n",
            "                                           Data_Cleaned      aspek  topik  \n",
            "0     pasang cerita bagus cerita baca perbarui baca ...    manfaat      1  \n",
            "1     aneh enak mau baca lambat baca baca sinyal lan...    manfaat      1  \n",
            "2     jujur kesal lama jelek layar hitam putih hitam...    manfaat      1  \n",
            "3                                  aplikasi fitur buruk    manfaat      1  \n",
            "4     kecewa perbarui enak cerita luar jaringan baya...    manfaat      1  \n",
            "...                                                 ...        ...    ...  \n",
            "8410          bagus bagus tambahin daftar luar jaringan     sistem      3  \n",
            "8411  bagus suka luar jaringan luar jaringan fitur k...     sistem      3  \n",
            "8412                                   bagus hibur maka  pelayanan      0  \n",
            "8413  bagus unduh cerita baca luar jaringan bagus ha...     sistem      3  \n",
            "8414                bagus versi terperbarui masuk susah  pelayanan      0  \n",
            "\n",
            "[8415 rows x 6 columns]\n"
          ]
        }
      ],
      "source": [
        "import pandas as pd\n",
        "dat2=pd.read_csv(\"gdrive/My Drive/Colab Notebooks/doubleaspek2.csv\")\n",
        "print(dat2)"
      ]
    },
    {
      "cell_type": "code",
      "execution_count": null,
      "metadata": {
        "colab": {
          "base_uri": "https://localhost:8080/",
          "height": 206
        },
        "id": "7DFkqBI9AicF",
        "outputId": "837e2670-9990-471a-85f0-17625a3724cc"
      },
      "outputs": [
        {
          "data": {
            "text/html": [
              "\n",
              "  <div id=\"df-b093a408-ebb7-4790-a8f5-beef5f3d6b9e\">\n",
              "    <div class=\"colab-df-container\">\n",
              "      <div>\n",
              "<style scoped>\n",
              "    .dataframe tbody tr th:only-of-type {\n",
              "        vertical-align: middle;\n",
              "    }\n",
              "\n",
              "    .dataframe tbody tr th {\n",
              "        vertical-align: top;\n",
              "    }\n",
              "\n",
              "    .dataframe thead th {\n",
              "        text-align: right;\n",
              "    }\n",
              "</style>\n",
              "<table border=\"1\" class=\"dataframe\">\n",
              "  <thead>\n",
              "    <tr style=\"text-align: right;\">\n",
              "      <th></th>\n",
              "      <th>Date</th>\n",
              "      <th>Data</th>\n",
              "      <th>score</th>\n",
              "      <th>Data_Cleaned</th>\n",
              "      <th>aspek</th>\n",
              "      <th>topik</th>\n",
              "    </tr>\n",
              "  </thead>\n",
              "  <tbody>\n",
              "    <tr>\n",
              "      <th>0</th>\n",
              "      <td>21/09/2020</td>\n",
              "      <td>Install wattpad Uda dr tahun 2015 karena cerit...</td>\n",
              "      <td>2</td>\n",
              "      <td>pasang cerita bagus cerita baca perbarui baca ...</td>\n",
              "      <td>manfaat</td>\n",
              "      <td>1</td>\n",
              "    </tr>\n",
              "    <tr>\n",
              "      <th>1</th>\n",
              "      <td>22/09/2020</td>\n",
              "      <td>Makin aneh deh ni wattpad. Udh gk nyaman lgi m...</td>\n",
              "      <td>1</td>\n",
              "      <td>aneh enak mau baca lambat baca baca sinyal lan...</td>\n",
              "      <td>manfaat</td>\n",
              "      <td>1</td>\n",
              "    </tr>\n",
              "    <tr>\n",
              "      <th>2</th>\n",
              "      <td>22/09/2020</td>\n",
              "      <td>Jujur aku kesal sama Wattpad, makin lama makin...</td>\n",
              "      <td>2</td>\n",
              "      <td>jujur kesal lama jelek layar hitam putih hitam...</td>\n",
              "      <td>manfaat</td>\n",
              "      <td>1</td>\n",
              "    </tr>\n",
              "    <tr>\n",
              "      <th>3</th>\n",
              "      <td>22/09/2020</td>\n",
              "      <td>Saya pengguna watpat sejak dulu dan itu sangat...</td>\n",
              "      <td>1</td>\n",
              "      <td>aplikasi fitur buruk</td>\n",
              "      <td>manfaat</td>\n",
              "      <td>1</td>\n",
              "    </tr>\n",
              "    <tr>\n",
              "      <th>4</th>\n",
              "      <td>23/09/2020</td>\n",
              "      <td>Mohon kembalikan wattpad seperti yang dulu!! S...</td>\n",
              "      <td>1</td>\n",
              "      <td>kecewa perbarui enak cerita luar jaringan baya...</td>\n",
              "      <td>manfaat</td>\n",
              "      <td>1</td>\n",
              "    </tr>\n",
              "  </tbody>\n",
              "</table>\n",
              "</div>\n",
              "      <button class=\"colab-df-convert\" onclick=\"convertToInteractive('df-b093a408-ebb7-4790-a8f5-beef5f3d6b9e')\"\n",
              "              title=\"Convert this dataframe to an interactive table.\"\n",
              "              style=\"display:none;\">\n",
              "        \n",
              "  <svg xmlns=\"http://www.w3.org/2000/svg\" height=\"24px\"viewBox=\"0 0 24 24\"\n",
              "       width=\"24px\">\n",
              "    <path d=\"M0 0h24v24H0V0z\" fill=\"none\"/>\n",
              "    <path d=\"M18.56 5.44l.94 2.06.94-2.06 2.06-.94-2.06-.94-.94-2.06-.94 2.06-2.06.94zm-11 1L8.5 8.5l.94-2.06 2.06-.94-2.06-.94L8.5 2.5l-.94 2.06-2.06.94zm10 10l.94 2.06.94-2.06 2.06-.94-2.06-.94-.94-2.06-.94 2.06-2.06.94z\"/><path d=\"M17.41 7.96l-1.37-1.37c-.4-.4-.92-.59-1.43-.59-.52 0-1.04.2-1.43.59L10.3 9.45l-7.72 7.72c-.78.78-.78 2.05 0 2.83L4 21.41c.39.39.9.59 1.41.59.51 0 1.02-.2 1.41-.59l7.78-7.78 2.81-2.81c.8-.78.8-2.07 0-2.86zM5.41 20L4 18.59l7.72-7.72 1.47 1.35L5.41 20z\"/>\n",
              "  </svg>\n",
              "      </button>\n",
              "      \n",
              "  <style>\n",
              "    .colab-df-container {\n",
              "      display:flex;\n",
              "      flex-wrap:wrap;\n",
              "      gap: 12px;\n",
              "    }\n",
              "\n",
              "    .colab-df-convert {\n",
              "      background-color: #E8F0FE;\n",
              "      border: none;\n",
              "      border-radius: 50%;\n",
              "      cursor: pointer;\n",
              "      display: none;\n",
              "      fill: #1967D2;\n",
              "      height: 32px;\n",
              "      padding: 0 0 0 0;\n",
              "      width: 32px;\n",
              "    }\n",
              "\n",
              "    .colab-df-convert:hover {\n",
              "      background-color: #E2EBFA;\n",
              "      box-shadow: 0px 1px 2px rgba(60, 64, 67, 0.3), 0px 1px 3px 1px rgba(60, 64, 67, 0.15);\n",
              "      fill: #174EA6;\n",
              "    }\n",
              "\n",
              "    [theme=dark] .colab-df-convert {\n",
              "      background-color: #3B4455;\n",
              "      fill: #D2E3FC;\n",
              "    }\n",
              "\n",
              "    [theme=dark] .colab-df-convert:hover {\n",
              "      background-color: #434B5C;\n",
              "      box-shadow: 0px 1px 3px 1px rgba(0, 0, 0, 0.15);\n",
              "      filter: drop-shadow(0px 1px 2px rgba(0, 0, 0, 0.3));\n",
              "      fill: #FFFFFF;\n",
              "    }\n",
              "  </style>\n",
              "\n",
              "      <script>\n",
              "        const buttonEl =\n",
              "          document.querySelector('#df-b093a408-ebb7-4790-a8f5-beef5f3d6b9e button.colab-df-convert');\n",
              "        buttonEl.style.display =\n",
              "          google.colab.kernel.accessAllowed ? 'block' : 'none';\n",
              "\n",
              "        async function convertToInteractive(key) {\n",
              "          const element = document.querySelector('#df-b093a408-ebb7-4790-a8f5-beef5f3d6b9e');\n",
              "          const dataTable =\n",
              "            await google.colab.kernel.invokeFunction('convertToInteractive',\n",
              "                                                     [key], {});\n",
              "          if (!dataTable) return;\n",
              "\n",
              "          const docLinkHtml = 'Like what you see? Visit the ' +\n",
              "            '<a target=\"_blank\" href=https://colab.research.google.com/notebooks/data_table.ipynb>data table notebook</a>'\n",
              "            + ' to learn more about interactive tables.';\n",
              "          element.innerHTML = '';\n",
              "          dataTable['output_type'] = 'display_data';\n",
              "          await google.colab.output.renderOutput(dataTable, element);\n",
              "          const docLink = document.createElement('div');\n",
              "          docLink.innerHTML = docLinkHtml;\n",
              "          element.appendChild(docLink);\n",
              "        }\n",
              "      </script>\n",
              "    </div>\n",
              "  </div>\n",
              "  "
            ],
            "text/plain": [
              "         Date                                               Data  score  \\\n",
              "0  21/09/2020  Install wattpad Uda dr tahun 2015 karena cerit...      2   \n",
              "1  22/09/2020  Makin aneh deh ni wattpad. Udh gk nyaman lgi m...      1   \n",
              "2  22/09/2020  Jujur aku kesal sama Wattpad, makin lama makin...      2   \n",
              "3  22/09/2020  Saya pengguna watpat sejak dulu dan itu sangat...      1   \n",
              "4  23/09/2020  Mohon kembalikan wattpad seperti yang dulu!! S...      1   \n",
              "\n",
              "                                        Data_Cleaned    aspek  topik  \n",
              "0  pasang cerita bagus cerita baca perbarui baca ...  manfaat      1  \n",
              "1  aneh enak mau baca lambat baca baca sinyal lan...  manfaat      1  \n",
              "2  jujur kesal lama jelek layar hitam putih hitam...  manfaat      1  \n",
              "3                               aplikasi fitur buruk  manfaat      1  \n",
              "4  kecewa perbarui enak cerita luar jaringan baya...  manfaat      1  "
            ]
          },
          "execution_count": 4,
          "metadata": {},
          "output_type": "execute_result"
        }
      ],
      "source": [
        "dat2.to_csv('dat2.csv')\n",
        "dat2.head()"
      ]
    },
    {
      "cell_type": "code",
      "execution_count": null,
      "metadata": {
        "colab": {
          "base_uri": "https://localhost:8080/"
        },
        "id": "WfC4UWziyuil",
        "outputId": "4a4a3a03-485a-4854-a57f-f0c027d23aac"
      },
      "outputs": [
        {
          "name": "stdout",
          "output_type": "stream",
          "text": [
            "                  Date                                               Data  \\\n",
            "0     16/09/2020 06:49  Wattpad sudah bagus banget, tapi kok makin di ...   \n",
            "1     16/09/2020 08:10  Dari dulu jaman SD sampai SMP suka banget sama...   \n",
            "2     16/09/2020 10:19  saya mau protes, saya mau login ke akun wattpa...   \n",
            "3     16/09/2020 11:15  Wattpad skrng enggak kayak wattpad dulu. Saya ...   \n",
            "4     16/09/2020 13:20  Maaf ka.sebelumnya, klo menurut saya bagus yg ...   \n",
            "...                ...                                                ...   \n",
            "7942  14/03/2021 13:00  Suka banget sama wattpad👍, tapi ini di hp lagi...   \n",
            "7943  14/03/2021 13:24           Klo boleh jjur kecewa sma wp yg sekarang   \n",
            "7944  14/03/2021 13:27  Saya s mencoba app ini di googledan hasilnya b...   \n",
            "7945  14/03/2021 14:55  Login susah ribet ,banyak batasan baca cerita ...   \n",
            "7946  14/03/2021 15:34  Aplikasi ini sangat bagus!!!!!!!!!!!!!!!!!!!!!...   \n",
            "\n",
            "      score                                       Data_Cleaned      aspek  \\\n",
            "0         5  bagus perbarui puas bagi kutip cerita tidak bi...  pelayanan   \n",
            "1         1  suka cerita enak fitur baca luas baca cerita m...  pelayanan   \n",
            "2         1  protes masuk akun masuk sandi reset akun perba...   tampilan   \n",
            "3         1  sekarang kecewa baca luar jaringan cerita sisa...     sistem   \n",
            "4         2  bagus baca puas tidak batas sekarang sedih hib...     sistem   \n",
            "...     ...                                                ...        ...   \n",
            "7942      5    suka telfon genggam tidak bisa buka unduh ulang   tampilan   \n",
            "7943      2                                  jujur kecewa baru   tampilan   \n",
            "7944      3  aplikasi google hasil bagus coba unduh bagus b...  pelayanan   \n",
            "7945      3  masuk susah ribet batas baca cerita luar jarin...     sistem   \n",
            "7946      5                                  bagus cepat unduh  pelayanan   \n",
            "\n",
            "      kelas  \n",
            "0         2  \n",
            "1         0  \n",
            "2         0  \n",
            "3         0  \n",
            "4         0  \n",
            "...     ...  \n",
            "7942      2  \n",
            "7943      0  \n",
            "7944      1  \n",
            "7945      1  \n",
            "7946      2  \n",
            "\n",
            "[7947 rows x 6 columns]\n"
          ]
        }
      ],
      "source": [
        "import pandas as pd\n",
        "dat=pd.read_csv(\"gdrive/My Drive/Colab Notebooks/datawattpad.csv\")\n",
        "print(dat)"
      ]
    },
    {
      "cell_type": "code",
      "execution_count": null,
      "metadata": {
        "colab": {
          "base_uri": "https://localhost:8080/",
          "height": 206
        },
        "id": "Ym1heXRTy2Cn",
        "outputId": "6ee7c253-5ab0-4729-ca0e-3b795355bf06"
      },
      "outputs": [
        {
          "data": {
            "text/html": [
              "\n",
              "  <div id=\"df-515d8d97-e2d1-42ca-9852-1ce755156eaa\">\n",
              "    <div class=\"colab-df-container\">\n",
              "      <div>\n",
              "<style scoped>\n",
              "    .dataframe tbody tr th:only-of-type {\n",
              "        vertical-align: middle;\n",
              "    }\n",
              "\n",
              "    .dataframe tbody tr th {\n",
              "        vertical-align: top;\n",
              "    }\n",
              "\n",
              "    .dataframe thead th {\n",
              "        text-align: right;\n",
              "    }\n",
              "</style>\n",
              "<table border=\"1\" class=\"dataframe\">\n",
              "  <thead>\n",
              "    <tr style=\"text-align: right;\">\n",
              "      <th></th>\n",
              "      <th>Date</th>\n",
              "      <th>Data</th>\n",
              "      <th>score</th>\n",
              "      <th>Data_Cleaned</th>\n",
              "      <th>aspek</th>\n",
              "      <th>kelas</th>\n",
              "    </tr>\n",
              "  </thead>\n",
              "  <tbody>\n",
              "    <tr>\n",
              "      <th>0</th>\n",
              "      <td>16/09/2020 06:49</td>\n",
              "      <td>Wattpad sudah bagus banget, tapi kok makin di ...</td>\n",
              "      <td>5</td>\n",
              "      <td>bagus perbarui puas bagi kutip cerita tidak bi...</td>\n",
              "      <td>pelayanan</td>\n",
              "      <td>2</td>\n",
              "    </tr>\n",
              "    <tr>\n",
              "      <th>1</th>\n",
              "      <td>16/09/2020 08:10</td>\n",
              "      <td>Dari dulu jaman SD sampai SMP suka banget sama...</td>\n",
              "      <td>1</td>\n",
              "      <td>suka cerita enak fitur baca luas baca cerita m...</td>\n",
              "      <td>pelayanan</td>\n",
              "      <td>0</td>\n",
              "    </tr>\n",
              "    <tr>\n",
              "      <th>2</th>\n",
              "      <td>16/09/2020 10:19</td>\n",
              "      <td>saya mau protes, saya mau login ke akun wattpa...</td>\n",
              "      <td>1</td>\n",
              "      <td>protes masuk akun masuk sandi reset akun perba...</td>\n",
              "      <td>tampilan</td>\n",
              "      <td>0</td>\n",
              "    </tr>\n",
              "    <tr>\n",
              "      <th>3</th>\n",
              "      <td>16/09/2020 11:15</td>\n",
              "      <td>Wattpad skrng enggak kayak wattpad dulu. Saya ...</td>\n",
              "      <td>1</td>\n",
              "      <td>sekarang kecewa baca luar jaringan cerita sisa...</td>\n",
              "      <td>sistem</td>\n",
              "      <td>0</td>\n",
              "    </tr>\n",
              "    <tr>\n",
              "      <th>4</th>\n",
              "      <td>16/09/2020 13:20</td>\n",
              "      <td>Maaf ka.sebelumnya, klo menurut saya bagus yg ...</td>\n",
              "      <td>2</td>\n",
              "      <td>bagus baca puas tidak batas sekarang sedih hib...</td>\n",
              "      <td>sistem</td>\n",
              "      <td>0</td>\n",
              "    </tr>\n",
              "  </tbody>\n",
              "</table>\n",
              "</div>\n",
              "      <button class=\"colab-df-convert\" onclick=\"convertToInteractive('df-515d8d97-e2d1-42ca-9852-1ce755156eaa')\"\n",
              "              title=\"Convert this dataframe to an interactive table.\"\n",
              "              style=\"display:none;\">\n",
              "        \n",
              "  <svg xmlns=\"http://www.w3.org/2000/svg\" height=\"24px\"viewBox=\"0 0 24 24\"\n",
              "       width=\"24px\">\n",
              "    <path d=\"M0 0h24v24H0V0z\" fill=\"none\"/>\n",
              "    <path d=\"M18.56 5.44l.94 2.06.94-2.06 2.06-.94-2.06-.94-.94-2.06-.94 2.06-2.06.94zm-11 1L8.5 8.5l.94-2.06 2.06-.94-2.06-.94L8.5 2.5l-.94 2.06-2.06.94zm10 10l.94 2.06.94-2.06 2.06-.94-2.06-.94-.94-2.06-.94 2.06-2.06.94z\"/><path d=\"M17.41 7.96l-1.37-1.37c-.4-.4-.92-.59-1.43-.59-.52 0-1.04.2-1.43.59L10.3 9.45l-7.72 7.72c-.78.78-.78 2.05 0 2.83L4 21.41c.39.39.9.59 1.41.59.51 0 1.02-.2 1.41-.59l7.78-7.78 2.81-2.81c.8-.78.8-2.07 0-2.86zM5.41 20L4 18.59l7.72-7.72 1.47 1.35L5.41 20z\"/>\n",
              "  </svg>\n",
              "      </button>\n",
              "      \n",
              "  <style>\n",
              "    .colab-df-container {\n",
              "      display:flex;\n",
              "      flex-wrap:wrap;\n",
              "      gap: 12px;\n",
              "    }\n",
              "\n",
              "    .colab-df-convert {\n",
              "      background-color: #E8F0FE;\n",
              "      border: none;\n",
              "      border-radius: 50%;\n",
              "      cursor: pointer;\n",
              "      display: none;\n",
              "      fill: #1967D2;\n",
              "      height: 32px;\n",
              "      padding: 0 0 0 0;\n",
              "      width: 32px;\n",
              "    }\n",
              "\n",
              "    .colab-df-convert:hover {\n",
              "      background-color: #E2EBFA;\n",
              "      box-shadow: 0px 1px 2px rgba(60, 64, 67, 0.3), 0px 1px 3px 1px rgba(60, 64, 67, 0.15);\n",
              "      fill: #174EA6;\n",
              "    }\n",
              "\n",
              "    [theme=dark] .colab-df-convert {\n",
              "      background-color: #3B4455;\n",
              "      fill: #D2E3FC;\n",
              "    }\n",
              "\n",
              "    [theme=dark] .colab-df-convert:hover {\n",
              "      background-color: #434B5C;\n",
              "      box-shadow: 0px 1px 3px 1px rgba(0, 0, 0, 0.15);\n",
              "      filter: drop-shadow(0px 1px 2px rgba(0, 0, 0, 0.3));\n",
              "      fill: #FFFFFF;\n",
              "    }\n",
              "  </style>\n",
              "\n",
              "      <script>\n",
              "        const buttonEl =\n",
              "          document.querySelector('#df-515d8d97-e2d1-42ca-9852-1ce755156eaa button.colab-df-convert');\n",
              "        buttonEl.style.display =\n",
              "          google.colab.kernel.accessAllowed ? 'block' : 'none';\n",
              "\n",
              "        async function convertToInteractive(key) {\n",
              "          const element = document.querySelector('#df-515d8d97-e2d1-42ca-9852-1ce755156eaa');\n",
              "          const dataTable =\n",
              "            await google.colab.kernel.invokeFunction('convertToInteractive',\n",
              "                                                     [key], {});\n",
              "          if (!dataTable) return;\n",
              "\n",
              "          const docLinkHtml = 'Like what you see? Visit the ' +\n",
              "            '<a target=\"_blank\" href=https://colab.research.google.com/notebooks/data_table.ipynb>data table notebook</a>'\n",
              "            + ' to learn more about interactive tables.';\n",
              "          element.innerHTML = '';\n",
              "          dataTable['output_type'] = 'display_data';\n",
              "          await google.colab.output.renderOutput(dataTable, element);\n",
              "          const docLink = document.createElement('div');\n",
              "          docLink.innerHTML = docLinkHtml;\n",
              "          element.appendChild(docLink);\n",
              "        }\n",
              "      </script>\n",
              "    </div>\n",
              "  </div>\n",
              "  "
            ],
            "text/plain": [
              "               Date                                               Data  score  \\\n",
              "0  16/09/2020 06:49  Wattpad sudah bagus banget, tapi kok makin di ...      5   \n",
              "1  16/09/2020 08:10  Dari dulu jaman SD sampai SMP suka banget sama...      1   \n",
              "2  16/09/2020 10:19  saya mau protes, saya mau login ke akun wattpa...      1   \n",
              "3  16/09/2020 11:15  Wattpad skrng enggak kayak wattpad dulu. Saya ...      1   \n",
              "4  16/09/2020 13:20  Maaf ka.sebelumnya, klo menurut saya bagus yg ...      2   \n",
              "\n",
              "                                        Data_Cleaned      aspek  kelas  \n",
              "0  bagus perbarui puas bagi kutip cerita tidak bi...  pelayanan      2  \n",
              "1  suka cerita enak fitur baca luas baca cerita m...  pelayanan      0  \n",
              "2  protes masuk akun masuk sandi reset akun perba...   tampilan      0  \n",
              "3  sekarang kecewa baca luar jaringan cerita sisa...     sistem      0  \n",
              "4  bagus baca puas tidak batas sekarang sedih hib...     sistem      0  "
            ]
          },
          "execution_count": 4,
          "metadata": {},
          "output_type": "execute_result"
        }
      ],
      "source": [
        "dat.to_csv('dat.csv')\n",
        "dat.head()"
      ]
    },
    {
      "cell_type": "code",
      "execution_count": null,
      "metadata": {
        "id": "n-xbB_WFn_y7"
      },
      "outputs": [],
      "source": [
        "def to_sentiment(score):\n",
        "  rating = int(score)\n",
        "  if rating <= 2:\n",
        "    return 'Negatif'\n",
        "  elif rating == 3:\n",
        "    return 'Netral'\n",
        "  else: \n",
        "    return 'Positif'\n",
        "\n",
        "dat2['sentiment'] = dat2.score.apply(to_sentiment)"
      ]
    },
    {
      "cell_type": "code",
      "execution_count": null,
      "metadata": {
        "colab": {
          "base_uri": "https://localhost:8080/",
          "height": 206
        },
        "id": "BrfQkqdCobYf",
        "outputId": "bd491394-8563-4ff6-cfea-5bb150caeace"
      },
      "outputs": [
        {
          "data": {
            "text/html": [
              "\n",
              "  <div id=\"df-c02f0347-50f2-4b1f-8053-b5c61f3af6fe\">\n",
              "    <div class=\"colab-df-container\">\n",
              "      <div>\n",
              "<style scoped>\n",
              "    .dataframe tbody tr th:only-of-type {\n",
              "        vertical-align: middle;\n",
              "    }\n",
              "\n",
              "    .dataframe tbody tr th {\n",
              "        vertical-align: top;\n",
              "    }\n",
              "\n",
              "    .dataframe thead th {\n",
              "        text-align: right;\n",
              "    }\n",
              "</style>\n",
              "<table border=\"1\" class=\"dataframe\">\n",
              "  <thead>\n",
              "    <tr style=\"text-align: right;\">\n",
              "      <th></th>\n",
              "      <th>Date</th>\n",
              "      <th>Data</th>\n",
              "      <th>score</th>\n",
              "      <th>Data_Cleaned</th>\n",
              "      <th>aspek</th>\n",
              "      <th>topik</th>\n",
              "      <th>sentiment</th>\n",
              "    </tr>\n",
              "  </thead>\n",
              "  <tbody>\n",
              "    <tr>\n",
              "      <th>0</th>\n",
              "      <td>21/09/2020</td>\n",
              "      <td>Install wattpad Uda dr tahun 2015 karena cerit...</td>\n",
              "      <td>2</td>\n",
              "      <td>pasang cerita bagus cerita baca perbarui baca ...</td>\n",
              "      <td>manfaat</td>\n",
              "      <td>1</td>\n",
              "      <td>Negatif</td>\n",
              "    </tr>\n",
              "    <tr>\n",
              "      <th>1</th>\n",
              "      <td>22/09/2020</td>\n",
              "      <td>Makin aneh deh ni wattpad. Udh gk nyaman lgi m...</td>\n",
              "      <td>1</td>\n",
              "      <td>aneh enak mau baca lambat baca baca sinyal lan...</td>\n",
              "      <td>manfaat</td>\n",
              "      <td>1</td>\n",
              "      <td>Negatif</td>\n",
              "    </tr>\n",
              "    <tr>\n",
              "      <th>2</th>\n",
              "      <td>22/09/2020</td>\n",
              "      <td>Jujur aku kesal sama Wattpad, makin lama makin...</td>\n",
              "      <td>2</td>\n",
              "      <td>jujur kesal lama jelek layar hitam putih hitam...</td>\n",
              "      <td>manfaat</td>\n",
              "      <td>1</td>\n",
              "      <td>Negatif</td>\n",
              "    </tr>\n",
              "    <tr>\n",
              "      <th>3</th>\n",
              "      <td>22/09/2020</td>\n",
              "      <td>Saya pengguna watpat sejak dulu dan itu sangat...</td>\n",
              "      <td>1</td>\n",
              "      <td>aplikasi fitur buruk</td>\n",
              "      <td>manfaat</td>\n",
              "      <td>1</td>\n",
              "      <td>Negatif</td>\n",
              "    </tr>\n",
              "    <tr>\n",
              "      <th>4</th>\n",
              "      <td>23/09/2020</td>\n",
              "      <td>Mohon kembalikan wattpad seperti yang dulu!! S...</td>\n",
              "      <td>1</td>\n",
              "      <td>kecewa perbarui enak cerita luar jaringan baya...</td>\n",
              "      <td>manfaat</td>\n",
              "      <td>1</td>\n",
              "      <td>Negatif</td>\n",
              "    </tr>\n",
              "  </tbody>\n",
              "</table>\n",
              "</div>\n",
              "      <button class=\"colab-df-convert\" onclick=\"convertToInteractive('df-c02f0347-50f2-4b1f-8053-b5c61f3af6fe')\"\n",
              "              title=\"Convert this dataframe to an interactive table.\"\n",
              "              style=\"display:none;\">\n",
              "        \n",
              "  <svg xmlns=\"http://www.w3.org/2000/svg\" height=\"24px\"viewBox=\"0 0 24 24\"\n",
              "       width=\"24px\">\n",
              "    <path d=\"M0 0h24v24H0V0z\" fill=\"none\"/>\n",
              "    <path d=\"M18.56 5.44l.94 2.06.94-2.06 2.06-.94-2.06-.94-.94-2.06-.94 2.06-2.06.94zm-11 1L8.5 8.5l.94-2.06 2.06-.94-2.06-.94L8.5 2.5l-.94 2.06-2.06.94zm10 10l.94 2.06.94-2.06 2.06-.94-2.06-.94-.94-2.06-.94 2.06-2.06.94z\"/><path d=\"M17.41 7.96l-1.37-1.37c-.4-.4-.92-.59-1.43-.59-.52 0-1.04.2-1.43.59L10.3 9.45l-7.72 7.72c-.78.78-.78 2.05 0 2.83L4 21.41c.39.39.9.59 1.41.59.51 0 1.02-.2 1.41-.59l7.78-7.78 2.81-2.81c.8-.78.8-2.07 0-2.86zM5.41 20L4 18.59l7.72-7.72 1.47 1.35L5.41 20z\"/>\n",
              "  </svg>\n",
              "      </button>\n",
              "      \n",
              "  <style>\n",
              "    .colab-df-container {\n",
              "      display:flex;\n",
              "      flex-wrap:wrap;\n",
              "      gap: 12px;\n",
              "    }\n",
              "\n",
              "    .colab-df-convert {\n",
              "      background-color: #E8F0FE;\n",
              "      border: none;\n",
              "      border-radius: 50%;\n",
              "      cursor: pointer;\n",
              "      display: none;\n",
              "      fill: #1967D2;\n",
              "      height: 32px;\n",
              "      padding: 0 0 0 0;\n",
              "      width: 32px;\n",
              "    }\n",
              "\n",
              "    .colab-df-convert:hover {\n",
              "      background-color: #E2EBFA;\n",
              "      box-shadow: 0px 1px 2px rgba(60, 64, 67, 0.3), 0px 1px 3px 1px rgba(60, 64, 67, 0.15);\n",
              "      fill: #174EA6;\n",
              "    }\n",
              "\n",
              "    [theme=dark] .colab-df-convert {\n",
              "      background-color: #3B4455;\n",
              "      fill: #D2E3FC;\n",
              "    }\n",
              "\n",
              "    [theme=dark] .colab-df-convert:hover {\n",
              "      background-color: #434B5C;\n",
              "      box-shadow: 0px 1px 3px 1px rgba(0, 0, 0, 0.15);\n",
              "      filter: drop-shadow(0px 1px 2px rgba(0, 0, 0, 0.3));\n",
              "      fill: #FFFFFF;\n",
              "    }\n",
              "  </style>\n",
              "\n",
              "      <script>\n",
              "        const buttonEl =\n",
              "          document.querySelector('#df-c02f0347-50f2-4b1f-8053-b5c61f3af6fe button.colab-df-convert');\n",
              "        buttonEl.style.display =\n",
              "          google.colab.kernel.accessAllowed ? 'block' : 'none';\n",
              "\n",
              "        async function convertToInteractive(key) {\n",
              "          const element = document.querySelector('#df-c02f0347-50f2-4b1f-8053-b5c61f3af6fe');\n",
              "          const dataTable =\n",
              "            await google.colab.kernel.invokeFunction('convertToInteractive',\n",
              "                                                     [key], {});\n",
              "          if (!dataTable) return;\n",
              "\n",
              "          const docLinkHtml = 'Like what you see? Visit the ' +\n",
              "            '<a target=\"_blank\" href=https://colab.research.google.com/notebooks/data_table.ipynb>data table notebook</a>'\n",
              "            + ' to learn more about interactive tables.';\n",
              "          element.innerHTML = '';\n",
              "          dataTable['output_type'] = 'display_data';\n",
              "          await google.colab.output.renderOutput(dataTable, element);\n",
              "          const docLink = document.createElement('div');\n",
              "          docLink.innerHTML = docLinkHtml;\n",
              "          element.appendChild(docLink);\n",
              "        }\n",
              "      </script>\n",
              "    </div>\n",
              "  </div>\n",
              "  "
            ],
            "text/plain": [
              "         Date                                               Data  score  \\\n",
              "0  21/09/2020  Install wattpad Uda dr tahun 2015 karena cerit...      2   \n",
              "1  22/09/2020  Makin aneh deh ni wattpad. Udh gk nyaman lgi m...      1   \n",
              "2  22/09/2020  Jujur aku kesal sama Wattpad, makin lama makin...      2   \n",
              "3  22/09/2020  Saya pengguna watpat sejak dulu dan itu sangat...      1   \n",
              "4  23/09/2020  Mohon kembalikan wattpad seperti yang dulu!! S...      1   \n",
              "\n",
              "                                        Data_Cleaned    aspek  topik sentiment  \n",
              "0  pasang cerita bagus cerita baca perbarui baca ...  manfaat      1   Negatif  \n",
              "1  aneh enak mau baca lambat baca baca sinyal lan...  manfaat      1   Negatif  \n",
              "2  jujur kesal lama jelek layar hitam putih hitam...  manfaat      1   Negatif  \n",
              "3                               aplikasi fitur buruk  manfaat      1   Negatif  \n",
              "4  kecewa perbarui enak cerita luar jaringan baya...  manfaat      1   Negatif  "
            ]
          },
          "execution_count": 6,
          "metadata": {},
          "output_type": "execute_result"
        }
      ],
      "source": [
        "dat2.head()"
      ]
    },
    {
      "cell_type": "markdown",
      "metadata": {
        "id": "nCGkJnSbCs2X"
      },
      "source": [
        "##Proporsi Sentiment"
      ]
    },
    {
      "cell_type": "code",
      "execution_count": null,
      "metadata": {
        "colab": {
          "base_uri": "https://localhost:8080/",
          "height": 354
        },
        "id": "tdlq0v89CsVX",
        "outputId": "ac62a893-f4df-47cc-b686-7a1f65e91df0"
      },
      "outputs": [
        {
          "name": "stdout",
          "output_type": "stream",
          "text": [
            "Proporsi Sentimen\n"
          ]
        },
        {
          "name": "stderr",
          "output_type": "stream",
          "text": [
            "/usr/local/lib/python3.7/dist-packages/seaborn/_decorators.py:43: FutureWarning: Pass the following variable as a keyword arg: x. From version 0.12, the only valid positional argument will be `data`, and passing other arguments without an explicit keyword will result in an error or misinterpretation.\n",
            "  FutureWarning\n"
          ]
        },
        {
          "data": {
            "image/png": "[encoded data removed]",
            "text/plain": [
              "<Figure size 432x288 with 1 Axes>"
            ]
          },
          "metadata": {},
          "output_type": "display_data"
        }
      ],
      "source": [
        "print(\"Proporsi Sentimen\")\n",
        "ax = sns.countplot(dat2['sentiment'])"
      ]
    },
    {
      "cell_type": "code",
      "execution_count": null,
      "metadata": {
        "colab": {
          "base_uri": "https://localhost:8080/"
        },
        "id": "-8xGK2t6Dxr4",
        "outputId": "485a5fcf-e31b-45cb-cc6b-499b07e02be1"
      },
      "outputs": [
        {
          "data": {
            "text/plain": [
              "Negatif    3826\n",
              "Positif    3512\n",
              "Netral     1077\n",
              "Name: sentiment, dtype: int64"
            ]
          },
          "execution_count": 8,
          "metadata": {},
          "output_type": "execute_result"
        }
      ],
      "source": [
        "dat2['sentiment'].value_counts()"
      ]
    },
    {
      "cell_type": "code",
      "execution_count": null,
      "metadata": {
        "colab": {
          "base_uri": "https://localhost:8080/",
          "height": 351
        },
        "id": "ZA02dh-4D1bD",
        "outputId": "13353324-99ea-4f93-eecb-461fda12513a"
      },
      "outputs": [
        {
          "name": "stdout",
          "output_type": "stream",
          "text": [
            "Proporsi Aspek\n"
          ]
        },
        {
          "name": "stderr",
          "output_type": "stream",
          "text": [
            "/usr/local/lib/python3.7/dist-packages/seaborn/_decorators.py:43: FutureWarning: Pass the following variable as a keyword arg: x. From version 0.12, the only valid positional argument will be `data`, and passing other arguments without an explicit keyword will result in an error or misinterpretation.\n",
            "  FutureWarning\n"
          ]
        },
        {
          "data": {
            "image/png": "[encoded data removed]",
            "text/plain": [
              "<Figure size 432x288 with 1 Axes>"
            ]
          },
          "metadata": {},
          "output_type": "display_data"
        }
      ],
      "source": [
        "print(\"Proporsi Aspek\")\n",
        "ax = sns.countplot(dat2['aspek'])"
      ]
    },
    {
      "cell_type": "code",
      "execution_count": null,
      "metadata": {
        "colab": {
          "base_uri": "https://localhost:8080/"
        },
        "id": "yeCIlcCoCsSs",
        "outputId": "2e667889-aaca-4aa0-a9a2-94df23f24367"
      },
      "outputs": [
        {
          "data": {
            "text/plain": [
              "sistem       2493\n",
              "tampilan     2325\n",
              "pelayanan    2168\n",
              "manfaat      1429\n",
              "Name: aspek, dtype: int64"
            ]
          },
          "execution_count": 10,
          "metadata": {},
          "output_type": "execute_result"
        }
      ],
      "source": [
        "dat2['aspek'].value_counts()"
      ]
    },
    {
      "cell_type": "code",
      "execution_count": null,
      "metadata": {
        "colab": {
          "base_uri": "https://localhost:8080/"
        },
        "id": "7iYCRjexEDX0",
        "outputId": "13a4b3e1-899c-452e-9950-a981ad0d6a0b"
      },
      "outputs": [
        {
          "name": "stdout",
          "output_type": "stream",
          "text": [
            "   Date sentiment  Data\n",
            "0  2020   Negatif  2737\n",
            "1  2020   Positif  1879\n",
            "2  2020    Netral   656\n",
            "3  2021   Positif  1633\n",
            "4  2021   Negatif  1089\n",
            "5  2021    Netral   421\n"
          ]
        }
      ],
      "source": [
        "dat2['Date'] = pd.to_datetime(dat2['Date'])\n",
        "\n",
        "datesen_counts = (dat2.groupby(dat2['Date'].dt.year)['sentiment']\n",
        "                .value_counts()\n",
        "                .rename('Data')\n",
        "                .reset_index()\n",
        "                .sort_values('Date'))\n",
        "print(datesen_counts)"
      ]
    },
    {
      "cell_type": "code",
      "execution_count": null,
      "metadata": {
        "colab": {
          "base_uri": "https://localhost:8080/",
          "height": 296
        },
        "id": "MJOIk-0cEY5U",
        "outputId": "66bb36f8-4c6b-4357-c83a-5263dfe0a093"
      },
      "outputs": [
        {
          "name": "stdout",
          "output_type": "stream",
          "text": [
            "Proporsi Sentimen Tahun\n"
          ]
        },
        {
          "data": {
            "image/png": "[encoded data removed]",
            "text/plain": [
              "<Figure size 432x288 with 1 Axes>"
            ]
          },
          "metadata": {},
          "output_type": "display_data"
        }
      ],
      "source": [
        "print(\"Proporsi Sentimen Tahun\")\n",
        "p = sns.barplot(x=\"Date\", y=\"Data\", hue=\"sentiment\", data=datesen_counts)"
      ]
    },
    {
      "cell_type": "code",
      "execution_count": null,
      "metadata": {
        "colab": {
          "base_uri": "https://localhost:8080/"
        },
        "id": "x4hYDsuqEiqF",
        "outputId": "ece13121-340c-4b4c-92e2-1127b43f7c34"
      },
      "outputs": [
        {
          "name": "stdout",
          "output_type": "stream",
          "text": [
            "        aspek sentiment  Data\n",
            "1     manfaat   Negatif   288\n",
            "4   pelayanan   Negatif   742\n",
            "6      sistem   Negatif  1504\n",
            "9    tampilan   Negatif  1292\n",
            "2     manfaat    Netral   105\n",
            "5   pelayanan    Netral   229\n",
            "8      sistem    Netral   383\n",
            "11   tampilan    Netral   360\n",
            "0     manfaat   Positif  1036\n",
            "3   pelayanan   Positif  1197\n",
            "7      sistem   Positif   606\n",
            "10   tampilan   Positif   673\n"
          ]
        }
      ],
      "source": [
        "aspek_counts = (dat2.groupby(['aspek'])['sentiment']\n",
        "                .value_counts() \n",
        "                     .rename('Data')\n",
        "                     .reset_index()\n",
        "                     .sort_values('sentiment'))\n",
        "print(aspek_counts)"
      ]
    },
    {
      "cell_type": "code",
      "execution_count": null,
      "metadata": {
        "colab": {
          "base_uri": "https://localhost:8080/",
          "height": 296
        },
        "id": "pZ-_cR7zEinv",
        "outputId": "9cbb5f00-fdca-48d0-a06e-799e44b3737b"
      },
      "outputs": [
        {
          "name": "stdout",
          "output_type": "stream",
          "text": [
            "Proporsi Aspek\n"
          ]
        },
        {
          "data": {
            "image/png": "[encoded data removed]",
            "text/plain": [
              "<Figure size 432x288 with 1 Axes>"
            ]
          },
          "metadata": {},
          "output_type": "display_data"
        }
      ],
      "source": [
        "print(\"Proporsi Aspek\")\n",
        "p = sns.barplot(x=\"aspek\", y=\"Data\", hue=\"sentiment\", data=aspek_counts)"
      ]
    },
    {
      "cell_type": "code",
      "execution_count": null,
      "metadata": {
        "id": "mQkzWGidEDNh"
      },
      "outputs": [],
      "source": [
        ""
      ]
    },
    {
      "cell_type": "markdown",
      "metadata": {
        "id": "X-w1CfgtmaXC"
      },
      "source": [
        "#Kelas Sentimen"
      ]
    },
    {
      "cell_type": "code",
      "execution_count": null,
      "metadata": {
        "colab": {
          "base_uri": "https://localhost:8080/"
        },
        "id": "WNLFrTHIKaCT",
        "outputId": "89869992-8c8a-41aa-8646-3508efb4dae8"
      },
      "outputs": [
        {
          "name": "stdout",
          "output_type": "stream",
          "text": [
            "       Date sentiment  Data\n",
            "0   2020-09  Negatiif   374\n",
            "1   2020-09   Positif   113\n",
            "2   2020-09    Netral    64\n",
            "3   2020-10  Negatiif  1116\n",
            "4   2020-10   Positif   463\n",
            "5   2020-10    Netral   206\n",
            "6   2020-11  Negatiif   649\n",
            "7   2020-11   Positif   463\n",
            "8   2020-11    Netral   168\n",
            "11  2020-12    Netral   160\n",
            "10  2020-12  Negatiif   415\n",
            "9   2020-12   Positif   672\n",
            "12  2021-01   Positif   682\n",
            "13  2021-01  Negatiif   391\n",
            "14  2021-01    Netral   152\n",
            "15  2021-02   Positif   588\n",
            "16  2021-02  Negatiif   469\n",
            "17  2021-02    Netral   176\n",
            "18  2021-03   Positif   330\n",
            "19  2021-03  Negatiif   210\n",
            "20  2021-03    Netral    86\n"
          ]
        }
      ],
      "source": [
        "dat['Date'] = pd.to_datetime(dat['Date'])\n",
        "datesen_counts = (dat.groupby(pd.Grouper(key='Date', freq='MS'))['sentiment']\n",
        "                  .value_counts()\n",
        "                  .rename('Data')\n",
        "                  .reset_index()\n",
        "                  .sort_values('Date'))\n",
        "datesen_counts['Date'] = pd.to_datetime(datesen_counts[\"Date\"].dt.strftime('%Y-%m')).dt.to_period('m')\n",
        "datesen_counts['Date'] = datesen_counts['Date'].dt.strftime('%Y-%m')\n",
        "print(datesen_counts)"
      ]
    },
    {
      "cell_type": "code",
      "execution_count": null,
      "metadata": {
        "colab": {
          "base_uri": "https://localhost:8080/",
          "height": 314
        },
        "id": "iXX70BH6mrJg",
        "outputId": "5982cd38-8805-4a8e-fdd7-73ac04ca8547"
      },
      "outputs": [
        {
          "name": "stdout",
          "output_type": "stream",
          "text": [
            "Visualisasi Kelas Sentimen Tiap 1 Bulan\n"
          ]
        },
        {
          "data": {
            "text/plain": [
              "Text(0, 0.5, 'Jumlah Data')"
            ]
          },
          "execution_count": 8,
          "metadata": {},
          "output_type": "execute_result"
        },
        {
          "data": {
            "image/png": "[encoded data removed]",
            "text/plain": [
              "<Figure size 432x288 with 1 Axes>"
            ]
          },
          "metadata": {},
          "output_type": "display_data"
        }
      ],
      "source": [
        "print(\"Visualisasi Kelas Sentimen Tiap 1 Bulan\")\n",
        "p = sns.lineplot(x=\"Date\", y =\"Data\", hue=\"sentiment\", style=\"sentiment\", data = datesen_counts)\n",
        "p.set_xlabel(\"Periode Waktu Setiap 1 Bulan\")\n",
        "p.set_ylabel(\"Jumlah Data\")"
      ]
    },
    {
      "cell_type": "markdown",
      "metadata": {
        "id": "AIBqSl0gmmoE"
      },
      "source": [
        "# Kelas Aspek"
      ]
    },
    {
      "cell_type": "code",
      "execution_count": null,
      "metadata": {
        "colab": {
          "base_uri": "https://localhost:8080/"
        },
        "id": "XvhOZsZmKhIz",
        "outputId": "e0f570ac-84a8-4d8f-af96-636e50fc03aa"
      },
      "outputs": [
        {
          "name": "stdout",
          "output_type": "stream",
          "text": [
            "            Date  ... topik\n",
            "0     2020-09-21  ...     1\n",
            "1     2020-09-22  ...     1\n",
            "2     2020-09-22  ...     1\n",
            "3     2020-09-22  ...     1\n",
            "4     2020-09-23  ...     1\n",
            "...          ...  ...   ...\n",
            "8410  2021-03-04  ...     3\n",
            "8411  2021-03-07  ...     3\n",
            "8412  2021-03-08  ...     0\n",
            "8413  2021-03-10  ...     3\n",
            "8414  2021-01-19  ...     0\n",
            "\n",
            "[8415 rows x 6 columns]\n"
          ]
        }
      ],
      "source": [
        "import pandas as pd\n",
        "dt=pd.read_csv(\"gdrive/My Drive/Colab Notebooks/doubleaspek2.csv\")\n",
        "print(dt)"
      ]
    },
    {
      "cell_type": "code",
      "execution_count": null,
      "metadata": {
        "colab": {
          "base_uri": "https://localhost:8080/",
          "height": 206
        },
        "id": "PK0y50FHNB1j",
        "outputId": "ffade06a-e538-450d-dd16-1e6a5cb55d6e"
      },
      "outputs": [
        {
          "data": {
            "text/html": [
              "\n",
              "  <div id=\"df-b59bc4d6-5f5f-4ce7-86bb-1ee598a8ab71\">\n",
              "    <div class=\"colab-df-container\">\n",
              "      <div>\n",
              "<style scoped>\n",
              "    .dataframe tbody tr th:only-of-type {\n",
              "        vertical-align: middle;\n",
              "    }\n",
              "\n",
              "    .dataframe tbody tr th {\n",
              "        vertical-align: top;\n",
              "    }\n",
              "\n",
              "    .dataframe thead th {\n",
              "        text-align: right;\n",
              "    }\n",
              "</style>\n",
              "<table border=\"1\" class=\"dataframe\">\n",
              "  <thead>\n",
              "    <tr style=\"text-align: right;\">\n",
              "      <th></th>\n",
              "      <th>Date</th>\n",
              "      <th>Data</th>\n",
              "      <th>score</th>\n",
              "      <th>Data_Cleaned</th>\n",
              "      <th>aspek</th>\n",
              "      <th>topik</th>\n",
              "    </tr>\n",
              "  </thead>\n",
              "  <tbody>\n",
              "    <tr>\n",
              "      <th>0</th>\n",
              "      <td>2020-09-21</td>\n",
              "      <td>Install wattpad Uda dr tahun 2015 karena cerit...</td>\n",
              "      <td>2</td>\n",
              "      <td>pasang cerita bagus cerita baca perbarui baca ...</td>\n",
              "      <td>manfaat</td>\n",
              "      <td>1</td>\n",
              "    </tr>\n",
              "    <tr>\n",
              "      <th>1</th>\n",
              "      <td>2020-09-22</td>\n",
              "      <td>Makin aneh deh ni wattpad. Udh gk nyaman lgi m...</td>\n",
              "      <td>1</td>\n",
              "      <td>aneh enak mau baca lambat baca baca sinyal lan...</td>\n",
              "      <td>manfaat</td>\n",
              "      <td>1</td>\n",
              "    </tr>\n",
              "    <tr>\n",
              "      <th>2</th>\n",
              "      <td>2020-09-22</td>\n",
              "      <td>Jujur aku kesal sama Wattpad, makin lama makin...</td>\n",
              "      <td>2</td>\n",
              "      <td>jujur kesal lama jelek layar hitam putih hitam...</td>\n",
              "      <td>manfaat</td>\n",
              "      <td>1</td>\n",
              "    </tr>\n",
              "    <tr>\n",
              "      <th>3</th>\n",
              "      <td>2020-09-22</td>\n",
              "      <td>Saya pengguna watpat sejak dulu dan itu sangat...</td>\n",
              "      <td>1</td>\n",
              "      <td>aplikasi fitur buruk</td>\n",
              "      <td>manfaat</td>\n",
              "      <td>1</td>\n",
              "    </tr>\n",
              "    <tr>\n",
              "      <th>4</th>\n",
              "      <td>2020-09-23</td>\n",
              "      <td>Mohon kembalikan wattpad seperti yang dulu!! S...</td>\n",
              "      <td>1</td>\n",
              "      <td>kecewa perbarui enak cerita luar jaringan baya...</td>\n",
              "      <td>manfaat</td>\n",
              "      <td>1</td>\n",
              "    </tr>\n",
              "  </tbody>\n",
              "</table>\n",
              "</div>\n",
              "      <button class=\"colab-df-convert\" onclick=\"convertToInteractive('df-b59bc4d6-5f5f-4ce7-86bb-1ee598a8ab71')\"\n",
              "              title=\"Convert this dataframe to an interactive table.\"\n",
              "              style=\"display:none;\">\n",
              "        \n",
              "  <svg xmlns=\"http://www.w3.org/2000/svg\" height=\"24px\"viewBox=\"0 0 24 24\"\n",
              "       width=\"24px\">\n",
              "    <path d=\"M0 0h24v24H0V0z\" fill=\"none\"/>\n",
              "    <path d=\"M18.56 5.44l.94 2.06.94-2.06 2.06-.94-2.06-.94-.94-2.06-.94 2.06-2.06.94zm-11 1L8.5 8.5l.94-2.06 2.06-.94-2.06-.94L8.5 2.5l-.94 2.06-2.06.94zm10 10l.94 2.06.94-2.06 2.06-.94-2.06-.94-.94-2.06-.94 2.06-2.06.94z\"/><path d=\"M17.41 7.96l-1.37-1.37c-.4-.4-.92-.59-1.43-.59-.52 0-1.04.2-1.43.59L10.3 9.45l-7.72 7.72c-.78.78-.78 2.05 0 2.83L4 21.41c.39.39.9.59 1.41.59.51 0 1.02-.2 1.41-.59l7.78-7.78 2.81-2.81c.8-.78.8-2.07 0-2.86zM5.41 20L4 18.59l7.72-7.72 1.47 1.35L5.41 20z\"/>\n",
              "  </svg>\n",
              "      </button>\n",
              "      \n",
              "  <style>\n",
              "    .colab-df-container {\n",
              "      display:flex;\n",
              "      flex-wrap:wrap;\n",
              "      gap: 12px;\n",
              "    }\n",
              "\n",
              "    .colab-df-convert {\n",
              "      background-color: #E8F0FE;\n",
              "      border: none;\n",
              "      border-radius: 50%;\n",
              "      cursor: pointer;\n",
              "      display: none;\n",
              "      fill: #1967D2;\n",
              "      height: 32px;\n",
              "      padding: 0 0 0 0;\n",
              "      width: 32px;\n",
              "    }\n",
              "\n",
              "    .colab-df-convert:hover {\n",
              "      background-color: #E2EBFA;\n",
              "      box-shadow: 0px 1px 2px rgba(60, 64, 67, 0.3), 0px 1px 3px 1px rgba(60, 64, 67, 0.15);\n",
              "      fill: #174EA6;\n",
              "    }\n",
              "\n",
              "    [theme=dark] .colab-df-convert {\n",
              "      background-color: #3B4455;\n",
              "      fill: #D2E3FC;\n",
              "    }\n",
              "\n",
              "    [theme=dark] .colab-df-convert:hover {\n",
              "      background-color: #434B5C;\n",
              "      box-shadow: 0px 1px 3px 1px rgba(0, 0, 0, 0.15);\n",
              "      filter: drop-shadow(0px 1px 2px rgba(0, 0, 0, 0.3));\n",
              "      fill: #FFFFFF;\n",
              "    }\n",
              "  </style>\n",
              "\n",
              "      <script>\n",
              "        const buttonEl =\n",
              "          document.querySelector('#df-b59bc4d6-5f5f-4ce7-86bb-1ee598a8ab71 button.colab-df-convert');\n",
              "        buttonEl.style.display =\n",
              "          google.colab.kernel.accessAllowed ? 'block' : 'none';\n",
              "\n",
              "        async function convertToInteractive(key) {\n",
              "          const element = document.querySelector('#df-b59bc4d6-5f5f-4ce7-86bb-1ee598a8ab71');\n",
              "          const dataTable =\n",
              "            await google.colab.kernel.invokeFunction('convertToInteractive',\n",
              "                                                     [key], {});\n",
              "          if (!dataTable) return;\n",
              "\n",
              "          const docLinkHtml = 'Like what you see? Visit the ' +\n",
              "            '<a target=\"_blank\" href=https://colab.research.google.com/notebooks/data_table.ipynb>data table notebook</a>'\n",
              "            + ' to learn more about interactive tables.';\n",
              "          element.innerHTML = '';\n",
              "          dataTable['output_type'] = 'display_data';\n",
              "          await google.colab.output.renderOutput(dataTable, element);\n",
              "          const docLink = document.createElement('div');\n",
              "          docLink.innerHTML = docLinkHtml;\n",
              "          element.appendChild(docLink);\n",
              "        }\n",
              "      </script>\n",
              "    </div>\n",
              "  </div>\n",
              "  "
            ],
            "text/plain": [
              "         Date  ... topik\n",
              "0  2020-09-21  ...     1\n",
              "1  2020-09-22  ...     1\n",
              "2  2020-09-22  ...     1\n",
              "3  2020-09-22  ...     1\n",
              "4  2020-09-23  ...     1\n",
              "\n",
              "[5 rows x 6 columns]"
            ]
          },
          "execution_count": 4,
          "metadata": {},
          "output_type": "execute_result"
        }
      ],
      "source": [
        "dt.to_csv('dt.csv')\n",
        "dt.head()"
      ]
    },
    {
      "cell_type": "code",
      "execution_count": null,
      "metadata": {
        "id": "yOr8SUR9rQ22"
      },
      "outputs": [],
      "source": [
        "def to_sentiment(score):\n",
        "  rating = int(score)\n",
        "  if rating <= 2:\n",
        "    return 'Negatif'\n",
        "  elif rating == 3:\n",
        "    return 'Netral'\n",
        "  else: \n",
        "    return 'Positif'\n",
        "\n",
        "dt['sentiment'] = dt.score.apply(to_sentiment)"
      ]
    },
    {
      "cell_type": "code",
      "execution_count": null,
      "metadata": {
        "colab": {
          "base_uri": "https://localhost:8080/",
          "height": 206
        },
        "id": "DqbzS0S9rWqk",
        "outputId": "79054ec4-f0c2-4438-ee5a-61951584d8fb"
      },
      "outputs": [
        {
          "data": {
            "text/html": [
              "\n",
              "  <div id=\"df-037fa699-82b2-4184-90f3-d50d210eab90\">\n",
              "    <div class=\"colab-df-container\">\n",
              "      <div>\n",
              "<style scoped>\n",
              "    .dataframe tbody tr th:only-of-type {\n",
              "        vertical-align: middle;\n",
              "    }\n",
              "\n",
              "    .dataframe tbody tr th {\n",
              "        vertical-align: top;\n",
              "    }\n",
              "\n",
              "    .dataframe thead th {\n",
              "        text-align: right;\n",
              "    }\n",
              "</style>\n",
              "<table border=\"1\" class=\"dataframe\">\n",
              "  <thead>\n",
              "    <tr style=\"text-align: right;\">\n",
              "      <th></th>\n",
              "      <th>Date</th>\n",
              "      <th>Data</th>\n",
              "      <th>score</th>\n",
              "      <th>Data_Cleaned</th>\n",
              "      <th>aspek</th>\n",
              "      <th>topik</th>\n",
              "      <th>sentiment</th>\n",
              "    </tr>\n",
              "  </thead>\n",
              "  <tbody>\n",
              "    <tr>\n",
              "      <th>0</th>\n",
              "      <td>2020-09-21</td>\n",
              "      <td>Install wattpad Uda dr tahun 2015 karena cerit...</td>\n",
              "      <td>2</td>\n",
              "      <td>pasang cerita bagus cerita baca perbarui baca ...</td>\n",
              "      <td>manfaat</td>\n",
              "      <td>1</td>\n",
              "      <td>Negatif</td>\n",
              "    </tr>\n",
              "    <tr>\n",
              "      <th>1</th>\n",
              "      <td>2020-09-22</td>\n",
              "      <td>Makin aneh deh ni wattpad. Udh gk nyaman lgi m...</td>\n",
              "      <td>1</td>\n",
              "      <td>aneh enak mau baca lambat baca baca sinyal lan...</td>\n",
              "      <td>manfaat</td>\n",
              "      <td>1</td>\n",
              "      <td>Negatif</td>\n",
              "    </tr>\n",
              "    <tr>\n",
              "      <th>2</th>\n",
              "      <td>2020-09-22</td>\n",
              "      <td>Jujur aku kesal sama Wattpad, makin lama makin...</td>\n",
              "      <td>2</td>\n",
              "      <td>jujur kesal lama jelek layar hitam putih hitam...</td>\n",
              "      <td>manfaat</td>\n",
              "      <td>1</td>\n",
              "      <td>Negatif</td>\n",
              "    </tr>\n",
              "    <tr>\n",
              "      <th>3</th>\n",
              "      <td>2020-09-22</td>\n",
              "      <td>Saya pengguna watpat sejak dulu dan itu sangat...</td>\n",
              "      <td>1</td>\n",
              "      <td>aplikasi fitur buruk</td>\n",
              "      <td>manfaat</td>\n",
              "      <td>1</td>\n",
              "      <td>Negatif</td>\n",
              "    </tr>\n",
              "    <tr>\n",
              "      <th>4</th>\n",
              "      <td>2020-09-23</td>\n",
              "      <td>Mohon kembalikan wattpad seperti yang dulu!! S...</td>\n",
              "      <td>1</td>\n",
              "      <td>kecewa perbarui enak cerita luar jaringan baya...</td>\n",
              "      <td>manfaat</td>\n",
              "      <td>1</td>\n",
              "      <td>Negatif</td>\n",
              "    </tr>\n",
              "  </tbody>\n",
              "</table>\n",
              "</div>\n",
              "      <button class=\"colab-df-convert\" onclick=\"convertToInteractive('df-037fa699-82b2-4184-90f3-d50d210eab90')\"\n",
              "              title=\"Convert this dataframe to an interactive table.\"\n",
              "              style=\"display:none;\">\n",
              "        \n",
              "  <svg xmlns=\"http://www.w3.org/2000/svg\" height=\"24px\"viewBox=\"0 0 24 24\"\n",
              "       width=\"24px\">\n",
              "    <path d=\"M0 0h24v24H0V0z\" fill=\"none\"/>\n",
              "    <path d=\"M18.56 5.44l.94 2.06.94-2.06 2.06-.94-2.06-.94-.94-2.06-.94 2.06-2.06.94zm-11 1L8.5 8.5l.94-2.06 2.06-.94-2.06-.94L8.5 2.5l-.94 2.06-2.06.94zm10 10l.94 2.06.94-2.06 2.06-.94-2.06-.94-.94-2.06-.94 2.06-2.06.94z\"/><path d=\"M17.41 7.96l-1.37-1.37c-.4-.4-.92-.59-1.43-.59-.52 0-1.04.2-1.43.59L10.3 9.45l-7.72 7.72c-.78.78-.78 2.05 0 2.83L4 21.41c.39.39.9.59 1.41.59.51 0 1.02-.2 1.41-.59l7.78-7.78 2.81-2.81c.8-.78.8-2.07 0-2.86zM5.41 20L4 18.59l7.72-7.72 1.47 1.35L5.41 20z\"/>\n",
              "  </svg>\n",
              "      </button>\n",
              "      \n",
              "  <style>\n",
              "    .colab-df-container {\n",
              "      display:flex;\n",
              "      flex-wrap:wrap;\n",
              "      gap: 12px;\n",
              "    }\n",
              "\n",
              "    .colab-df-convert {\n",
              "      background-color: #E8F0FE;\n",
              "      border: none;\n",
              "      border-radius: 50%;\n",
              "      cursor: pointer;\n",
              "      display: none;\n",
              "      fill: #1967D2;\n",
              "      height: 32px;\n",
              "      padding: 0 0 0 0;\n",
              "      width: 32px;\n",
              "    }\n",
              "\n",
              "    .colab-df-convert:hover {\n",
              "      background-color: #E2EBFA;\n",
              "      box-shadow: 0px 1px 2px rgba(60, 64, 67, 0.3), 0px 1px 3px 1px rgba(60, 64, 67, 0.15);\n",
              "      fill: #174EA6;\n",
              "    }\n",
              "\n",
              "    [theme=dark] .colab-df-convert {\n",
              "      background-color: #3B4455;\n",
              "      fill: #D2E3FC;\n",
              "    }\n",
              "\n",
              "    [theme=dark] .colab-df-convert:hover {\n",
              "      background-color: #434B5C;\n",
              "      box-shadow: 0px 1px 3px 1px rgba(0, 0, 0, 0.15);\n",
              "      filter: drop-shadow(0px 1px 2px rgba(0, 0, 0, 0.3));\n",
              "      fill: #FFFFFF;\n",
              "    }\n",
              "  </style>\n",
              "\n",
              "      <script>\n",
              "        const buttonEl =\n",
              "          document.querySelector('#df-037fa699-82b2-4184-90f3-d50d210eab90 button.colab-df-convert');\n",
              "        buttonEl.style.display =\n",
              "          google.colab.kernel.accessAllowed ? 'block' : 'none';\n",
              "\n",
              "        async function convertToInteractive(key) {\n",
              "          const element = document.querySelector('#df-037fa699-82b2-4184-90f3-d50d210eab90');\n",
              "          const dataTable =\n",
              "            await google.colab.kernel.invokeFunction('convertToInteractive',\n",
              "                                                     [key], {});\n",
              "          if (!dataTable) return;\n",
              "\n",
              "          const docLinkHtml = 'Like what you see? Visit the ' +\n",
              "            '<a target=\"_blank\" href=https://colab.research.google.com/notebooks/data_table.ipynb>data table notebook</a>'\n",
              "            + ' to learn more about interactive tables.';\n",
              "          element.innerHTML = '';\n",
              "          dataTable['output_type'] = 'display_data';\n",
              "          await google.colab.output.renderOutput(dataTable, element);\n",
              "          const docLink = document.createElement('div');\n",
              "          docLink.innerHTML = docLinkHtml;\n",
              "          element.appendChild(docLink);\n",
              "        }\n",
              "      </script>\n",
              "    </div>\n",
              "  </div>\n",
              "  "
            ],
            "text/plain": [
              "         Date  ... sentiment\n",
              "0  2020-09-21  ...   Negatif\n",
              "1  2020-09-22  ...   Negatif\n",
              "2  2020-09-22  ...   Negatif\n",
              "3  2020-09-22  ...   Negatif\n",
              "4  2020-09-23  ...   Negatif\n",
              "\n",
              "[5 rows x 7 columns]"
            ]
          },
          "execution_count": 6,
          "metadata": {},
          "output_type": "execute_result"
        }
      ],
      "source": [
        "dt.head()"
      ]
    },
    {
      "cell_type": "code",
      "execution_count": null,
      "metadata": {
        "colab": {
          "base_uri": "https://localhost:8080/"
        },
        "id": "Rsoocv0T10mv",
        "outputId": "1fe1d760-7f44-4a78-d02e-fad6d560fbe7"
      },
      "outputs": [
        {
          "name": "stdout",
          "output_type": "stream",
          "text": [
            "       Date      aspek  Data\n",
            "0   2020-09     sistem   285\n",
            "1   2020-09   tampilan   163\n",
            "2   2020-09  pelayanan   138\n",
            "3   2020-09    manfaat   106\n",
            "4   2020-10     sistem   745\n",
            "5   2020-10  pelayanan   496\n",
            "6   2020-10   tampilan   433\n",
            "7   2020-10    manfaat   251\n",
            "8   2020-11  pelayanan   410\n",
            "9   2020-11     sistem   392\n",
            "10  2020-11   tampilan   329\n",
            "11  2020-11    manfaat   232\n",
            "15  2020-12    manfaat   267\n",
            "14  2020-12     sistem   295\n",
            "13  2020-12  pelayanan   363\n",
            "12  2020-12   tampilan   367\n",
            "16  2021-01     sistem   341\n",
            "17  2021-01   tampilan   318\n",
            "18  2021-01  pelayanan   313\n",
            "19  2021-01    manfaat   268\n",
            "20  2021-02   tampilan   459\n",
            "21  2021-02  pelayanan   310\n",
            "22  2021-02     sistem   287\n",
            "23  2021-02    manfaat   202\n",
            "24  2021-03   tampilan   256\n",
            "25  2021-03     sistem   148\n",
            "26  2021-03  pelayanan   138\n",
            "27  2021-03    manfaat   103\n"
          ]
        }
      ],
      "source": [
        "dt['Date'] = pd.to_datetime(dt['Date'])\n",
        "aspek_counts = (dt.groupby(pd.Grouper(key='Date', freq='MS'))['aspek']\n",
        "                  .value_counts()\n",
        "                  .rename('Data')\n",
        "                  .reset_index()\n",
        "                  .sort_values('Date'))\n",
        "aspek_counts['Date'] = pd.to_datetime(aspek_counts[\"Date\"].dt.strftime('%Y-%m')).dt.to_period('m')\n",
        "aspek_counts['Date'] = aspek_counts['Date'].dt.strftime('%Y-%m')\n",
        "print(aspek_counts)"
      ]
    },
    {
      "cell_type": "code",
      "execution_count": null,
      "metadata": {
        "colab": {
          "base_uri": "https://localhost:8080/",
          "height": 314
        },
        "id": "a7EMAYTeM8p-",
        "outputId": "3c83952c-76a8-457a-8633-1291644f9b13"
      },
      "outputs": [
        {
          "name": "stdout",
          "output_type": "stream",
          "text": [
            "Visualisasi Kelas Aspek Tiap 1 Bulan\n"
          ]
        },
        {
          "data": {
            "text/plain": [
              "Text(0, 0.5, 'Jumlah Data')"
            ]
          },
          "execution_count": 9,
          "metadata": {},
          "output_type": "execute_result"
        },
        {
          "data": {
            "image/png": "[encoded data removed]",
            "text/plain": [
              "<Figure size 432x288 with 1 Axes>"
            ]
          },
          "metadata": {},
          "output_type": "display_data"
        }
      ],
      "source": [
        "print(\"Visualisasi Kelas Aspek Tiap 1 Bulan\")\n",
        "p = sns.lineplot(x=\"Date\", y =\"Data\", hue=\"aspek\", style=\"aspek\", data = aspek_counts)\n",
        "p.set_xlabel(\"Periode Waktu Setiap 1 Bulan\")\n",
        "p.set_ylabel(\"Jumlah Data\")"
      ]
    },
    {
      "cell_type": "markdown",
      "metadata": {
        "id": "U1nC7xaLtYTM"
      },
      "source": [
        "#Kelas Sentimen terhadap aspek"
      ]
    },
    {
      "cell_type": "markdown",
      "metadata": {
        "id": "vQ-EDl-ptck2"
      },
      "source": [
        "Kelas sentimen positif terhadap aspek"
      ]
    },
    {
      "cell_type": "code",
      "execution_count": null,
      "metadata": {
        "colab": {
          "base_uri": "https://localhost:8080/"
        },
        "id": "uVj0QdUV2mDM",
        "outputId": "542732ad-9887-4a15-9c4a-e21eced3957c"
      },
      "outputs": [
        {
          "name": "stdout",
          "output_type": "stream",
          "text": [
            "       Date      aspek sentiment  Data\n",
            "11  2020-09   tampilan   Positif    15\n",
            "8   2020-09     sistem   Positif    31\n",
            "4   2020-09  pelayanan   Positif    56\n",
            "1   2020-09    manfaat   Positif    43\n",
            "19  2020-10     sistem   Positif   125\n",
            "22  2020-10   tampilan   Positif    64\n",
            "16  2020-10  pelayanan   Positif   192\n",
            "12  2020-10    manfaat   Positif   145\n",
            "34  2020-11   tampilan   Positif    74\n",
            "31  2020-11     sistem   Positif    88\n",
            "27  2020-11  pelayanan   Positif   190\n",
            "24  2020-11    manfaat   Positif   161\n",
            "43  2020-12     sistem   Positif    92\n",
            "46  2020-12   tampilan   Positif   146\n",
            "39  2020-12  pelayanan   Positif   235\n",
            "36  2020-12    manfaat   Positif   222\n",
            "58  2021-01   tampilan   Positif   116\n",
            "55  2021-01     sistem   Positif   125\n",
            "51  2021-01  pelayanan   Positif   233\n",
            "48  2021-01    manfaat   Positif   217\n",
            "67  2021-02     sistem   Positif    87\n",
            "70  2021-02   tampilan   Positif   151\n",
            "63  2021-02  pelayanan   Positif   200\n",
            "60  2021-02    manfaat   Positif   162\n",
            "79  2021-03     sistem   Positif    58\n",
            "75  2021-03  pelayanan   Positif    91\n",
            "72  2021-03    manfaat   Positif    86\n",
            "82  2021-03   tampilan   Positif   107\n"
          ]
        }
      ],
      "source": [
        "dt['Date'] = pd.to_datetime(dt['Date'])\n",
        "paspek_counts = (dt.groupby([pd.Grouper(key='Date', freq='MS'), dt['aspek']], sort = True)['sentiment']\n",
        "                  .value_counts()\n",
        "                  .rename('Data')\n",
        "                  .reset_index()\n",
        "                  .sort_values('Date'))\n",
        "paspek_counts['Date'] = pd.to_datetime(paspek_counts[\"Date\"].dt.strftime('%Y-%m')).dt.to_period('m')\n",
        "paspek_counts['Date'] = paspek_counts['Date'].dt.strftime('%Y-%m')\n",
        "paspek_counts = paspek_counts[paspek_counts['sentiment'] == 'Positif']\n",
        "paspek_counts['sentiment'] = paspek_counts['sentiment'].apply(str)\n",
        "print(paspek_counts)"
      ]
    },
    {
      "cell_type": "code",
      "execution_count": null,
      "metadata": {
        "colab": {
          "base_uri": "https://localhost:8080/"
        },
        "id": "v4waRc5R16PA",
        "outputId": "34112760-0be9-42de-800a-778021d89a87"
      },
      "outputs": [
        {
          "name": "stdout",
          "output_type": "stream",
          "text": [
            "       Date      aspek sentiment  Data\n",
            "11  2020-09   tampilan   Positif    15\n",
            "8   2020-09     sistem   Positif    31\n",
            "4   2020-09  pelayanan   Positif    56\n",
            "1   2020-09    manfaat   Positif    43\n",
            "19  2020-10     sistem   Positif   125\n",
            "22  2020-10   tampilan   Positif    64\n",
            "16  2020-10  pelayanan   Positif   192\n",
            "12  2020-10    manfaat   Positif   145\n",
            "34  2020-11   tampilan   Positif    74\n",
            "31  2020-11     sistem   Positif    88\n",
            "27  2020-11  pelayanan   Positif   190\n",
            "24  2020-11    manfaat   Positif   161\n",
            "43  2020-12     sistem   Positif    92\n",
            "46  2020-12   tampilan   Positif   146\n",
            "39  2020-12  pelayanan   Positif   235\n",
            "36  2020-12    manfaat   Positif   222\n",
            "58  2021-01   tampilan   Positif   116\n",
            "55  2021-01     sistem   Positif   125\n",
            "51  2021-01  pelayanan   Positif   233\n",
            "48  2021-01    manfaat   Positif   217\n",
            "67  2021-02     sistem   Positif    87\n",
            "70  2021-02   tampilan   Positif   151\n",
            "63  2021-02  pelayanan   Positif   200\n",
            "60  2021-02    manfaat   Positif   162\n",
            "79  2021-03     sistem   Positif    58\n",
            "75  2021-03  pelayanan   Positif    91\n",
            "72  2021-03    manfaat   Positif    86\n",
            "82  2021-03   tampilan   Positif   107\n"
          ]
        }
      ],
      "source": [
        "dt['Date'] = pd.to_datetime(dt['Date'])\n",
        "paspek_counts = (dt.groupby([pd.Grouper(key='Date', freq='MS'), dt['aspek']], sort = True)['sentiment']\n",
        "                  .value_counts()\n",
        "                  .rename('Data')\n",
        "                  .reset_index()\n",
        "                  .sort_values('Date'))\n",
        "paspek_counts['Date'] = pd.to_datetime(paspek_counts[\"Date\"].dt.strftime('%Y-%m')).dt.to_period('m')\n",
        "paspek_counts['Date'] = paspek_counts['Date'].dt.strftime('%Y-%m')\n",
        "paspek_counts = paspek_counts[paspek_counts['sentiment'] == 'Positif']\n",
        "paspek_counts['sentiment'] = paspek_counts['sentiment'].apply(str)\n",
        "print(paspek_counts)"
      ]
    },
    {
      "cell_type": "code",
      "execution_count": null,
      "metadata": {
        "colab": {
          "base_uri": "https://localhost:8080/",
          "height": 314
        },
        "id": "kkL66Q0cveeE",
        "outputId": "cbd7e209-c1f9-4281-bea4-4a6ef140dae5"
      },
      "outputs": [
        {
          "name": "stdout",
          "output_type": "stream",
          "text": [
            "Visualisasi Kelas Sentimen Positif Tiap Aspek Periode 1 Bulan\n"
          ]
        },
        {
          "data": {
            "text/plain": [
              "Text(0, 0.5, 'Jumlah Data')"
            ]
          },
          "execution_count": 12,
          "metadata": {},
          "output_type": "execute_result"
        },
        {
          "data": {
            "image/png": "[encoded data removed]",
            "text/plain": [
              "<Figure size 432x288 with 1 Axes>"
            ]
          },
          "metadata": {},
          "output_type": "display_data"
        }
      ],
      "source": [
        "print(\"Visualisasi Kelas Sentimen Positif Tiap Aspek Periode 1 Bulan\")\n",
        "p = sns.lineplot(x=\"Date\", y =\"Data\", hue=\"aspek\", style=\"aspek\", data = paspek_counts)\n",
        "p.set_xlabel(\"Periode Waktu Setiap 1 Bulan\")\n",
        "p.set_ylabel(\"Jumlah Data\")"
      ]
    },
    {
      "cell_type": "markdown",
      "metadata": {
        "id": "akrOK3RDvwph"
      },
      "source": [
        "Kelas Sentimen netral terhadap"
      ]
    },
    {
      "cell_type": "code",
      "execution_count": null,
      "metadata": {
        "colab": {
          "base_uri": "https://localhost:8080/"
        },
        "id": "RHmjkvyqveaK",
        "outputId": "50862c75-ac0b-4327-e726-c415a0591c4a"
      },
      "outputs": [
        {
          "name": "stdout",
          "output_type": "stream",
          "text": [
            "       Date      aspek sentiment  Data\n",
            "10  2020-09   tampilan    Netral    18\n",
            "7   2020-09     sistem    Netral    42\n",
            "2   2020-09    manfaat    Netral    11\n",
            "5   2020-09  pelayanan    Netral    14\n",
            "23  2020-10   tampilan    Netral    62\n",
            "20  2020-10     sistem    Netral    91\n",
            "14  2020-10    manfaat    Netral    19\n",
            "17  2020-10  pelayanan    Netral    57\n",
            "35  2020-11   tampilan    Netral    45\n",
            "32  2020-11     sistem    Netral    61\n",
            "29  2020-11  pelayanan    Netral    44\n",
            "26  2020-11    manfaat    Netral    25\n",
            "47  2020-12   tampilan    Netral    52\n",
            "44  2020-12     sistem    Netral    61\n",
            "41  2020-12  pelayanan    Netral    38\n",
            "38  2020-12    manfaat    Netral    16\n",
            "59  2021-01   tampilan    Netral    55\n",
            "56  2021-01     sistem    Netral    53\n",
            "50  2021-01    manfaat    Netral    18\n",
            "53  2021-01  pelayanan    Netral    27\n",
            "71  2021-02   tampilan    Netral    90\n",
            "68  2021-02     sistem    Netral    44\n",
            "62  2021-02    manfaat    Netral    10\n",
            "65  2021-02  pelayanan    Netral    34\n",
            "80  2021-03     sistem    Netral    31\n",
            "77  2021-03  pelayanan    Netral    15\n",
            "74  2021-03    manfaat    Netral     6\n",
            "83  2021-03   tampilan    Netral    38\n"
          ]
        }
      ],
      "source": [
        "dt['Date'] = pd.to_datetime(dt['Date'])\n",
        "netaspek_counts = (dt.groupby([pd.Grouper(key='Date', freq='MS'), dt['aspek']], sort = True)['sentiment']\n",
        "                  .value_counts()\n",
        "                  .rename('Data')\n",
        "                  .reset_index()\n",
        "                  .sort_values('Date'))\n",
        "netaspek_counts['Date'] = pd.to_datetime(netaspek_counts[\"Date\"].dt.strftime('%Y-%m')).dt.to_period('m')\n",
        "netaspek_counts['Date'] = netaspek_counts['Date'].dt.strftime('%Y-%m')\n",
        "netaspek_counts = netaspek_counts[netaspek_counts['sentiment'] == 'Netral']\n",
        "netaspek_counts['sentiment'] = netaspek_counts['sentiment'].apply(str)\n",
        "print(netaspek_counts)"
      ]
    },
    {
      "cell_type": "code",
      "execution_count": null,
      "metadata": {
        "colab": {
          "base_uri": "https://localhost:8080/",
          "height": 314
        },
        "id": "-CrZgL7yveYF",
        "outputId": "9b48d728-d6b5-49f7-8853-25af77f48ba3"
      },
      "outputs": [
        {
          "name": "stdout",
          "output_type": "stream",
          "text": [
            "Visualisasi Kelas Sentimen Netral Tiap Aspek Periode 1 Bulan\n"
          ]
        },
        {
          "data": {
            "text/plain": [
              "Text(0, 0.5, 'Jumlah Data')"
            ]
          },
          "execution_count": 14,
          "metadata": {},
          "output_type": "execute_result"
        },
        {
          "data": {
            "image/png": "[encoded data removed]",
            "text/plain": [
              "<Figure size 432x288 with 1 Axes>"
            ]
          },
          "metadata": {},
          "output_type": "display_data"
        }
      ],
      "source": [
        "print(\"Visualisasi Kelas Sentimen Netral Tiap Aspek Periode 1 Bulan\")\n",
        "p = sns.lineplot(x=\"Date\", y =\"Data\", hue=\"aspek\", style=\"aspek\", data = netaspek_counts)\n",
        "p.set_xlabel(\"Periode Waktu Setiap 1 Bulan\")\n",
        "p.set_ylabel(\"Jumlah Data\")"
      ]
    },
    {
      "cell_type": "markdown",
      "metadata": {
        "id": "B0uWu9UBwg7N"
      },
      "source": [
        "Kelas sentimen negatif terhadap aspek"
      ]
    },
    {
      "cell_type": "code",
      "execution_count": null,
      "metadata": {
        "colab": {
          "base_uri": "https://localhost:8080/"
        },
        "id": "CQ9gwADj2NNA",
        "outputId": "0ef97497-1b35-4fa7-fab6-616a4e2539c0"
      },
      "outputs": [
        {
          "name": "stdout",
          "output_type": "stream",
          "text": [
            "       Date      aspek sentiment  Data\n",
            "0   2020-09    manfaat   Negatif    52\n",
            "9   2020-09   tampilan   Negatif   130\n",
            "6   2020-09     sistem   Negatif   212\n",
            "3   2020-09  pelayanan   Negatif    68\n",
            "21  2020-10   tampilan   Negatif   307\n",
            "18  2020-10     sistem   Negatif   529\n",
            "15  2020-10  pelayanan   Negatif   247\n",
            "13  2020-10    manfaat   Negatif    87\n",
            "33  2020-11   tampilan   Negatif   210\n",
            "30  2020-11     sistem   Negatif   243\n",
            "25  2020-11    manfaat   Negatif    46\n",
            "28  2020-11  pelayanan   Negatif   176\n",
            "45  2020-12   tampilan   Negatif   169\n",
            "42  2020-12     sistem   Negatif   142\n",
            "40  2020-12  pelayanan   Negatif    90\n",
            "37  2020-12    manfaat   Negatif    29\n",
            "57  2021-01   tampilan   Negatif   147\n",
            "54  2021-01     sistem   Negatif   163\n",
            "52  2021-01  pelayanan   Negatif    53\n",
            "49  2021-01    manfaat   Negatif    33\n",
            "69  2021-02   tampilan   Negatif   218\n",
            "66  2021-02     sistem   Negatif   156\n",
            "64  2021-02  pelayanan   Negatif    76\n",
            "61  2021-02    manfaat   Negatif    30\n",
            "81  2021-03   tampilan   Negatif   111\n",
            "78  2021-03     sistem   Negatif    59\n",
            "73  2021-03    manfaat   Negatif    11\n",
            "76  2021-03  pelayanan   Negatif    32\n"
          ]
        }
      ],
      "source": [
        "dt['Date'] = pd.to_datetime(dt['Date'])\n",
        "negaspek_counts = (dt.groupby([pd.Grouper(key='Date', freq='MS'), dt['aspek']], sort = True)['sentiment']\n",
        "                  .value_counts()\n",
        "                  .rename('Data')\n",
        "                  .reset_index()\n",
        "                  .sort_values('Date'))\n",
        "negaspek_counts['Date'] = pd.to_datetime(negaspek_counts[\"Date\"].dt.strftime('%Y-%m')).dt.to_period('m')\n",
        "negaspek_counts['Date'] = negaspek_counts['Date'].dt.strftime('%Y-%m')\n",
        "negaspek_counts = negaspek_counts[negaspek_counts['sentiment'] == 'Negatif']\n",
        "negaspek_counts['sentiment'] = negaspek_counts['sentiment'].apply(str)\n",
        "print(negaspek_counts)"
      ]
    },
    {
      "cell_type": "code",
      "execution_count": null,
      "metadata": {
        "colab": {
          "base_uri": "https://localhost:8080/",
          "height": 314
        },
        "id": "xfE3swJuveS_",
        "outputId": "862a984b-a02c-4cc2-d73f-ceab7c4c4554"
      },
      "outputs": [
        {
          "name": "stdout",
          "output_type": "stream",
          "text": [
            "Visualisasi Kelas Sentimen Negatif Tiap Aspek Periode 1 Bulan\n"
          ]
        },
        {
          "data": {
            "text/plain": [
              "Text(0, 0.5, 'Jumlah Data')"
            ]
          },
          "execution_count": 16,
          "metadata": {},
          "output_type": "execute_result"
        },
        {
          "data": {
            "image/png": "[encoded data removed]",
            "text/plain": [
              "<Figure size 432x288 with 1 Axes>"
            ]
          },
          "metadata": {},
          "output_type": "display_data"
        }
      ],
      "source": [
        "print(\"Visualisasi Kelas Sentimen Negatif Tiap Aspek Periode 1 Bulan\")\n",
        "p = sns.lineplot(x=\"Date\", y =\"Data\", hue=\"aspek\", style=\"aspek\", data = negaspek_counts)\n",
        "p.set_xlabel(\"Periode Waktu Setiap 1 Bulan\")\n",
        "p.set_ylabel(\"Jumlah Data\")"
      ]
    },
    {
      "cell_type": "code",
      "execution_count": null,
      "metadata": {
        "id": "CsmE8GN1veQl"
      },
      "outputs": [],
      "source": [
        ""
      ]
    },
    {
      "cell_type": "code",
      "execution_count": null,
      "metadata": {
        "id": "TXwz7LHj49Xr"
      },
      "outputs": [],
      "source": [
        ""
      ]
    },
    {
      "cell_type": "code",
      "execution_count": null,
      "metadata": {
        "id": "gwtalnFo49aS"
      },
      "outputs": [],
      "source": [
        "#Visualisasi Perbandingan Sentimen Positif adan Negatif "
      ]
    },
    {
      "cell_type": "code",
      "execution_count": null,
      "metadata": {
        "colab": {
          "base_uri": "https://localhost:8080/"
        },
        "id": "rRoIaeNSJHqc",
        "outputId": "b920d642-675d-4495-9956-2e0a2e6ff0c9"
      },
      "outputs": [
        {
          "name": "stdout",
          "output_type": "stream",
          "text": [
            "       Date      aspek sentiment  Data\n",
            "0   2020-09   tampilan   Positif    15\n",
            "1   2020-09     sistem   Positif    31\n",
            "2   2020-09  pelayanan   Positif    56\n",
            "3   2020-09    manfaat   Positif    43\n",
            "4   2020-10     sistem   Positif   125\n",
            "5   2020-10   tampilan   Positif    64\n",
            "6   2020-10  pelayanan   Positif   192\n",
            "7   2020-10    manfaat   Positif   145\n",
            "8   2020-11   tampilan   Positif    74\n",
            "9   2020-11     sistem   Positif    88\n",
            "10  2020-11  pelayanan   Positif   190\n",
            "11  2020-11    manfaat   Positif   161\n",
            "12  2020-12     sistem   Positif    92\n",
            "13  2020-12   tampilan   Positif   146\n",
            "14  2020-12  pelayanan   Positif   235\n",
            "15  2020-12    manfaat   Positif   222\n",
            "16  2021-01   tampilan   Positif   116\n",
            "17  2021-01     sistem   Positif   125\n",
            "18  2021-01  pelayanan   Positif   233\n",
            "19  2021-01    manfaat   Positif   217\n",
            "20  2021-02     sistem   Positif    87\n",
            "21  2021-02   tampilan   Positif   151\n",
            "22  2021-02  pelayanan   Positif   200\n",
            "23  2021-02    manfaat   Positif   162\n",
            "24  2021-03     sistem   Positif    58\n",
            "25  2021-03  pelayanan   Positif    91\n",
            "26  2021-03    manfaat   Positif    86\n",
            "27  2021-03   tampilan   Positif   107\n"
          ]
        }
      ],
      "source": [
        "#Perbandingan antara positif dan negatif\n",
        "\n",
        "dt['Date'] = pd.to_datetime(dt['Date'])\n",
        "posaspek_counts = (dt.groupby([pd.Grouper(key='Date', freq='MS'), dt['aspek']], sort = True)['sentiment']\n",
        "                  .value_counts()\n",
        "                  .rename('Data')\n",
        "                  .reset_index()\n",
        "                  .sort_values('Date'))\n",
        "posaspek_counts['Date'] = pd.to_datetime(posaspek_counts[\"Date\"].dt.strftime('%Y-%m')).dt.to_period('m')\n",
        "posaspek_counts['Date'] = posaspek_counts['Date'].dt.strftime('%Y-%m')\n",
        "posaspek_counts = posaspek_counts[posaspek_counts['sentiment'] == 'Positif']\n",
        "posaspek_counts['sentiment'] = posaspek_counts['sentiment'].apply(str)\n",
        "posaspek_counts['Data'] = posaspek_counts['Data'].apply(int)\n",
        "\n",
        "negaspek_counts = (dt.groupby([pd.Grouper(key='Date', freq='MS'), dt['aspek']], sort = True)['sentiment']\n",
        "                  .value_counts()\n",
        "                  .rename('Data')\n",
        "                  .reset_index()\n",
        "                  .sort_values('Date'))\n",
        "negaspek_counts['Date'] = pd.to_datetime(negaspek_counts[\"Date\"].dt.strftime('%Y-%m')).dt.to_period('m')\n",
        "negaspek_counts['Date'] = negaspek_counts['Date'].dt.strftime('%Y-%m')\n",
        "negaspek_counts = negaspek_counts[negaspek_counts['sentiment'] == 'Negatif']\n",
        "negaspek_counts['sentiment'] = negaspek_counts['sentiment'].apply(str)\n",
        "negaspek_counts['Data'] = negaspek_counts['Data'].apply(int)\n",
        "\n",
        "\n",
        "posaspek_counts = posaspek_counts.reset_index(drop=True)\n",
        "negaspek_counts = negaspek_counts.reset_index(drop=True)\n",
        "print(posaspek_counts)\n"
      ]
    },
    {
      "cell_type": "code",
      "execution_count": null,
      "metadata": {
        "colab": {
          "base_uri": "https://localhost:8080/"
        },
        "id": "kYeEB6RB9Qm4",
        "outputId": "444fc964-379b-4366-dabe-ec9899ff42c9"
      },
      "outputs": [
        {
          "name": "stdout",
          "output_type": "stream",
          "text": [
            "       Date      aspek sentiment  Data\n",
            "0   2020-09    manfaat   Negatif    52\n",
            "1   2020-09   tampilan   Negatif   130\n",
            "2   2020-09     sistem   Negatif   212\n",
            "3   2020-09  pelayanan   Negatif    68\n",
            "4   2020-10   tampilan   Negatif   307\n",
            "5   2020-10     sistem   Negatif   529\n",
            "6   2020-10  pelayanan   Negatif   247\n",
            "7   2020-10    manfaat   Negatif    87\n",
            "8   2020-11   tampilan   Negatif   210\n",
            "9   2020-11     sistem   Negatif   243\n",
            "10  2020-11    manfaat   Negatif    46\n",
            "11  2020-11  pelayanan   Negatif   176\n",
            "12  2020-12   tampilan   Negatif   169\n",
            "13  2020-12     sistem   Negatif   142\n",
            "14  2020-12  pelayanan   Negatif    90\n",
            "15  2020-12    manfaat   Negatif    29\n",
            "16  2021-01   tampilan   Negatif   147\n",
            "17  2021-01     sistem   Negatif   163\n",
            "18  2021-01  pelayanan   Negatif    53\n",
            "19  2021-01    manfaat   Negatif    33\n",
            "20  2021-02   tampilan   Negatif   218\n",
            "21  2021-02     sistem   Negatif   156\n",
            "22  2021-02  pelayanan   Negatif    76\n",
            "23  2021-02    manfaat   Negatif    30\n",
            "24  2021-03   tampilan   Negatif   111\n",
            "25  2021-03     sistem   Negatif    59\n",
            "26  2021-03    manfaat   Negatif    11\n",
            "27  2021-03  pelayanan   Negatif    32\n"
          ]
        }
      ],
      "source": [
        "print(negaspek_counts)"
      ]
    },
    {
      "cell_type": "code",
      "execution_count": null,
      "metadata": {
        "colab": {
          "base_uri": "https://localhost:8080/"
        },
        "id": "MhXEjqIU8EhO",
        "outputId": "f9de78ef-9ff6-4245-e959-6b5ae5ab0dd1"
      },
      "outputs": [
        {
          "name": "stdout",
          "output_type": "stream",
          "text": [
            "       Date      aspek  Data\n",
            "0   2020-09    manfaat   -37\n",
            "1   2020-09   tampilan   -99\n",
            "2   2020-09     sistem  -156\n",
            "3   2020-09  pelayanan   -25\n",
            "4   2020-10   tampilan  -182\n",
            "5   2020-10     sistem  -465\n",
            "6   2020-10  pelayanan   -55\n",
            "7   2020-10    manfaat    58\n",
            "8   2020-11   tampilan  -136\n",
            "9   2020-11     sistem  -155\n",
            "10  2020-11    manfaat   144\n",
            "11  2020-11  pelayanan   -15\n",
            "12  2020-12   tampilan   -77\n",
            "13  2020-12     sistem     4\n",
            "14  2020-12  pelayanan   145\n",
            "15  2020-12    manfaat   193\n",
            "16  2021-01   tampilan   -31\n",
            "17  2021-01     sistem   -38\n",
            "18  2021-01  pelayanan   180\n",
            "19  2021-01    manfaat   184\n",
            "20  2021-02   tampilan  -131\n",
            "21  2021-02     sistem    -5\n",
            "22  2021-02  pelayanan   124\n",
            "23  2021-02    manfaat   132\n",
            "24  2021-03   tampilan   -53\n",
            "25  2021-03     sistem    32\n",
            "26  2021-03    manfaat    75\n",
            "27  2021-03  pelayanan    75\n"
          ]
        }
      ],
      "source": [
        "perbandingan = pd.DataFrame()\n",
        "perbandingan['Date'] = posaspek_counts['Date'].tolist()\n",
        "perbandingan['aspek'] = negaspek_counts['aspek'].tolist()\n",
        "perbandingan['Data'] = posaspek_counts['Data'].sub(negaspek_counts['Data'], fill_value=0)\n",
        "print(perbandingan)"
      ]
    },
    {
      "cell_type": "code",
      "execution_count": null,
      "metadata": {
        "colab": {
          "base_uri": "https://localhost:8080/"
        },
        "id": "Q80_trTTGe_B",
        "outputId": "f6c2e8a7-9425-4efe-bb9c-7fa83e00e927"
      },
      "outputs": [
        {
          "name": "stdout",
          "output_type": "stream",
          "text": [
            "    Unnamed: 0     Date      aspek  Unnamed: 3\n",
            "0            0  2020-09   tampilan        -115\n",
            "1            1  2020-09     sistem        -181\n",
            "2            2  2020-09  pelayanan         -12\n",
            "3            3  2020-09    manfaat          -9\n",
            "4            4  2020-10     sistem        -404\n",
            "5            5  2020-10   tampilan        -243\n",
            "6            6  2020-10  pelayanan         -55\n",
            "7            7  2020-10    manfaat          58\n",
            "8            8  2020-11   tampilan        -136\n",
            "9            9  2020-11     sistem        -155\n",
            "10          10  2020-11  pelayanan          14\n",
            "11          11  2020-11    manfaat         115\n",
            "12          12  2020-12     sistem         -50\n",
            "13          13  2020-12   tampilan         -23\n",
            "14          14  2020-12  pelayanan         145\n",
            "15          15  2020-12    manfaat         193\n",
            "16          16  2021-01   tampilan         -31\n",
            "17          17  2021-01     sistem         -38\n",
            "18          18  2021-01  pelayanan         180\n",
            "19          19  2021-01    manfaat         184\n",
            "20          20  2021-02     sistem         -69\n",
            "21          21  2021-02   tampilan         -67\n",
            "22          22  2021-02  pelayanan         124\n",
            "23          23  2021-02    manfaat         132\n",
            "24          24  2021-03     sistem          -1\n",
            "25          25  2021-03  pelayanan          59\n",
            "26          26  2021-03    manfaat          75\n",
            "27          27  2021-03   tampilan          -4\n"
          ]
        }
      ],
      "source": [
        "import pandas as pd\n",
        "perbandingan=pd.read_csv(\"gdrive/My Drive/Colab Notebooks/perbandingan.csv\")\n",
        "print(perbandingan)"
      ]
    },
    {
      "cell_type": "code",
      "execution_count": null,
      "metadata": {
        "colab": {
          "base_uri": "https://localhost:8080/",
          "height": 359
        },
        "id": "SMh2pXQxGnSu",
        "outputId": "dd29e357-f844-46bc-95a9-74c6f35408c0"
      },
      "outputs": [
        {
          "name": "stdout",
          "output_type": "stream",
          "text": [
            "Visualisasi Kelas Aspek Perbandingan Sentimen Positif dan Negatif Periode 1 bulan\n"
          ]
        },
        {
          "data": {
            "text/plain": [
              "Text(0, 0.5, 'Selisih Jumlah Data Sentimen Positif dan Sentimen Negatif')"
            ]
          },
          "execution_count": 46,
          "metadata": {},
          "output_type": "execute_result"
        },
        {
          "data": {
            "image/png": "[encoded data removed]",
            "text/plain": [
              "<Figure size 432x288 with 1 Axes>"
            ]
          },
          "metadata": {},
          "output_type": "display_data"
        }
      ],
      "source": [
        "print(\"Visualisasi Kelas Aspek Perbandingan Sentimen Positif dan Negatif Periode 1 bulan\")\n",
        "p = sns.lineplot(x=\"Date\", y =\"Unnamed: 3\", hue=\"aspek\", style=\"aspek\", data = perbandingan)\n",
        "p.set_xlabel(\"Periode Waktu Setiap 1 Bulan\")\n",
        "p.set_ylabel(\"Selisih Jumlah Data Sentimen Positif dan Sentimen Negatif\")"
      ]
    }
  ],
  "metadata": {
    "colab": {
      "collapsed_sections": [],
      "name": "Visualisasi.ipynb",
      "provenance": []
    },
    "kernelspec": {
      "display_name": "Python 3",
      "name": "python3"
    },
    "language_info": {
      "name": "python"
    }
  },
  "nbformat": 4,
  "nbformat_minor": 0
}